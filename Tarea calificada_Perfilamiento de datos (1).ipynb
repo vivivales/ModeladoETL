{
 "cells": [
  {
   "cell_type": "markdown",
   "metadata": {},
   "source": [
    "# Tarea Calificada: Perfilamiento de Datos Infraestructura Visible"
   ]
  },
  {
   "cell_type": "markdown",
   "metadata": {},
   "source": [
    "## 1. Configuración de Librerías y PySpark\n",
    "    \n",
    "En este documento se presenta el proceso realizado para la exploración, preprocesamiento y persistencia de datos con PySpark\n",
    "\n",
    "Se inicia importando las librerías necesarias:"
   ]
  },
  {
   "cell_type": "code",
   "execution_count": 1,
   "metadata": {},
   "outputs": [],
   "source": [
    "from pyspark.sql import SparkSession\n",
    "from pyspark.sql import functions\n",
    "from pyspark.sql.types import StructType\n",
    "from pyspark import SparkContext, SparkConf, SQLContext\n",
    "from pyspark.sql.types import FloatType\n",
    "from pyspark.sql.functions import udf\n",
    "from pyspark.sql.functions import isnan, when, count, col"
   ]
  },
  {
   "cell_type": "code",
   "execution_count": 2,
   "metadata": {},
   "outputs": [],
   "source": [
    "import os \n",
    "os.environ['PYSPARK_SUBMIT_ARGS'] = '--jars /usr/share/java/mariadb-java-client-2.5.3.jar pyspark-shell'"
   ]
  },
  {
   "cell_type": "code",
   "execution_count": 3,
   "metadata": {},
   "outputs": [],
   "source": [
    "#Configuración de la sesión\n",
    "spark_context = SparkContext()\n",
    "sql_context = SQLContext(spark_context)\n",
    "spark = sql_context.sparkSession"
   ]
  },
  {
   "cell_type": "markdown",
   "metadata": {},
   "source": [
    "## 2. Exploración"
   ]
  },
  {
   "cell_type": "markdown",
   "metadata": {},
   "source": [
    "### 2.1. Importar los datos\n",
    "\n",
    "Se importan los datos a través de una estructura de DataFrame"
   ]
  },
  {
   "cell_type": "markdown",
   "metadata": {},
   "source": [
    "Primero importamos los datos de la base de datos \"aeropuertos\" y luego de la base de datos \"vuelos\""
   ]
  },
  {
   "cell_type": "code",
   "execution_count": 4,
   "metadata": {},
   "outputs": [],
   "source": [
    "aerop_wwwimporter = spark.read.load(\"aeropuertos.csv\",format=\"csv\", sep=\",\", inferSchema=\"true\", header=\"true\")\n",
    "aerop = aerop_wwwimporter"
   ]
  },
  {
   "cell_type": "code",
   "execution_count": 5,
   "metadata": {
    "scrolled": true
   },
   "outputs": [],
   "source": [
    "vuelos_wwwimporter = spark.read.load(\"vuelos.csv\",format=\"csv\", sep=\",\", inferSchema=\"true\", header=\"true\")\n",
    "vuelos = vuelos_wwwimporter"
   ]
  },
  {
   "cell_type": "markdown",
   "metadata": {},
   "source": [
    "### 2.2. Resumen de las columnas\n",
    "\n",
    "Inspeccionamos las columnas de cada archivo para entender las variables y tipos de datos"
   ]
  },
  {
   "cell_type": "code",
   "execution_count": 6,
   "metadata": {},
   "outputs": [
    {
     "data": {
      "text/plain": [
       "['StructType(List(',\n",
       " '(ano,IntegerType,true),',\n",
       " '(mes,IntegerType,true),',\n",
       " '(origen,StringType,true),',\n",
       " '(destino,StringType,true),',\n",
       " '(tipo_equipo,StringType,true),',\n",
       " '(tipo_vuelo,StringType,true),',\n",
       " '(trafico,StringType,true),',\n",
       " '(empresa,StringType,true),',\n",
       " '(vuelos,StringType,true),',\n",
       " '(sillas,StringType,true),',\n",
       " '(carga_ofrecida,DoubleType,true),',\n",
       " '(pasajeros,StringType,true),',\n",
       " '(carga_bordo,DoubleType,true)))']"
      ]
     },
     "execution_count": 6,
     "metadata": {},
     "output_type": "execute_result"
    }
   ],
   "source": [
    "columnas_vuelos = str(vuelos.schema)\n",
    "columnas_vuelos.split(\"StructField\")"
   ]
  },
  {
   "cell_type": "markdown",
   "metadata": {},
   "source": [
    "En relación a las fuentes consultadas se concluye en la exploración inicial que:\n",
    "- Requieren preparación ya que se identifica que tienen valores nulos que hay que tratar\n",
    "- Es posible integrar las fuentes a través del código IATA y el código de destino\n",
    "- En la primera fuente \"aeropuertos\" encontramos la información general, especificaciones y características técnicas de operación de los aeropuertos junto con el número de vuelos registrado en el último año en ese aeropuerto como punto de origen\n",
    "- En la segunda fuente encontramos la información de vuelos con sus capacidades disponibles y ocupadas tanto en pasajeros como en carga"
   ]
  },
  {
   "cell_type": "code",
   "execution_count": 7,
   "metadata": {},
   "outputs": [
    {
     "data": {
      "text/plain": [
       "(67599, 2013, 2010, 292)"
      ]
     },
     "execution_count": 7,
     "metadata": {},
     "output_type": "execute_result"
    }
   ],
   "source": [
    "max_ano = vuelos.agg({'ano': 'max'}).collect()[0][0]\n",
    "min_ano = vuelos.agg({'ano': 'min'}).collect()[0][0]\n",
    "vuelos.count(),max_ano,min_ano, aerop.count()"
   ]
  },
  {
   "cell_type": "markdown",
   "metadata": {},
   "source": [
    "En relación a la cantidad de registros y periodo de tiempo encontramos para cada fuente: \n",
    "- Vuelos: 67599 registros que se encuentran en un rango de fechas del 2010 al 2013\n",
    "- Aeropuertos: 292 registros. No existe una columna que indique el periodo de tiempo. Sin embargo, en la descripción de variables suministrada por el cliente se indica que el número total de vuelos registrado es del último año"
   ]
  },
  {
   "cell_type": "code",
   "execution_count": 8,
   "metadata": {},
   "outputs": [
    {
     "name": "stdout",
     "output_type": "stream",
     "text": [
      "variable _c0,count 213, cantidad 292\n",
      "variable sigla,count 212, cantidad 292\n",
      "variable iata,count 62, cantidad 292\n",
      "variable nombre,count 206, cantidad 292\n",
      "variable municipio,count 122, cantidad 292\n",
      "variable departamento,count 30, cantidad 292\n",
      "variable categoria,count 4, cantidad 292\n",
      "variable latitud,count 212, cantidad 292\n",
      "variable longitud,count 212, cantidad 292\n",
      "variable propietario,count 121, cantidad 292\n",
      "variable explotador,count 103, cantidad 292\n",
      "variable longitud_pista,count 98, cantidad 292\n",
      "variable ancho_pista,count 22, cantidad 292\n",
      "variable pbmo,count 37, cantidad 292\n",
      "variable elevacion,count 183, cantidad 292\n",
      "variable resolucion,count 166, cantidad 292\n",
      "variable fecha_construccion,count 194, cantidad 292\n",
      "variable fecha_vigencia,count 56, cantidad 292\n",
      "variable clase,count 15, cantidad 292\n",
      "variable tipo,count 4, cantidad 292\n",
      "variable numero_vuelos_origen,count 187, cantidad 292\n",
      "variable gcd_departamento,count 30, cantidad 292\n",
      "variable gcd_municipio,count 122, cantidad 292\n"
     ]
    }
   ],
   "source": [
    "aerop_colnames = aerop.columns[0:]\n",
    "\n",
    "for col in aerop_colnames:\n",
    "    col_count = aerop.select(col).distinct().count()\n",
    "    col_total = aerop.select(col).count()\n",
    "    print('variable {0},count {1}, cantidad {2}'.format(col, col_count, col_total))"
   ]
  },
  {
   "cell_type": "markdown",
   "metadata": {},
   "source": [
    "Para la fuente aeropuertos, encontramos que no tenemos variables con registros únicos, por tanto tampoco existe una variable que nos permita identificar los datos por un ID único."
   ]
  },
  {
   "cell_type": "code",
   "execution_count": 9,
   "metadata": {},
   "outputs": [
    {
     "name": "stdout",
     "output_type": "stream",
     "text": [
      "variable ano, unicos 4, cantidad 67599\n",
      "variable mes, unicos 12, cantidad 67599\n",
      "variable origen, unicos 111, cantidad 67599\n",
      "variable destino, unicos 110, cantidad 67599\n",
      "variable tipo_equipo, unicos 94, cantidad 67599\n",
      "variable tipo_vuelo, unicos 4, cantidad 67599\n",
      "variable trafico, unicos 2, cantidad 67599\n",
      "variable empresa, unicos 71, cantidad 67599\n",
      "variable vuelos, unicos 611, cantidad 67599\n",
      "variable sillas, unicos 5810, cantidad 67599\n",
      "variable carga_ofrecida, unicos 9649, cantidad 67599\n",
      "variable pasajeros, unicos 7894, cantidad 67599\n",
      "variable carga_bordo, unicos 10289, cantidad 67599\n"
     ]
    }
   ],
   "source": [
    "vuelos_colnames = vuelos.columns[0:]\n",
    "\n",
    "for col in vuelos_colnames:\n",
    "    col_count = vuelos.select(col).distinct().count()\n",
    "    col_total = vuelos.select(col).count()\n",
    "    print('variable {0}, unicos {1}, cantidad {2}'.format(col, col_count,col_total))"
   ]
  },
  {
   "cell_type": "markdown",
   "metadata": {},
   "source": [
    "En relación a la fuente vuelos, encontramos también que no tenemos ninguna variable con registro único que nos identifique cada registro. Sin embargo la información de la columna origen podría ser útil para consolidar la información en función de lo que se requiere para los análisis."
   ]
  },
  {
   "cell_type": "code",
   "execution_count": 10,
   "metadata": {},
   "outputs": [
    {
     "data": {
      "text/plain": [
       "['StructType(List(',\n",
       " '(_c0,IntegerType,true),',\n",
       " '(sigla,StringType,true),',\n",
       " '(iata,StringType,true),',\n",
       " '(nombre,StringType,true),',\n",
       " '(municipio,StringType,true),',\n",
       " '(departamento,StringType,true),',\n",
       " '(categoria,StringType,true),',\n",
       " '(latitud,DoubleType,true),',\n",
       " '(longitud,DoubleType,true),',\n",
       " '(propietario,StringType,true),',\n",
       " '(explotador,StringType,true),',\n",
       " '(longitud_pista,DoubleType,true),',\n",
       " '(ancho_pista,DoubleType,true),',\n",
       " '(pbmo,StringType,true),',\n",
       " '(elevacion,DoubleType,true),',\n",
       " '(resolucion,StringType,true),',\n",
       " '(fecha_construccion,StringType,true),',\n",
       " '(fecha_vigencia,StringType,true),',\n",
       " '(clase,StringType,true),',\n",
       " '(tipo,StringType,true),',\n",
       " '(numero_vuelos_origen,StringType,true),',\n",
       " '(gcd_departamento,IntegerType,true),',\n",
       " '(gcd_municipio,IntegerType,true)))']"
      ]
     },
     "execution_count": 10,
     "metadata": {},
     "output_type": "execute_result"
    }
   ],
   "source": [
    "columnas_aerop = str(aerop.schema)\n",
    "columnas_aerop.split(\"StructField\")"
   ]
  },
  {
   "cell_type": "markdown",
   "metadata": {},
   "source": [
    "Se requiere realizar algunas conversiones en los tipos de datos de las siguientes variables: \n",
    "\n",
    "AEROPUERTOS\n",
    "\n",
    "- latitud y longitud de tipo DoybleType y requerimos convertirlas a decimal\n",
    "- longitud de pista, ancho de pista, elevación de tipo DoybleType y requerimos convertirlas a entero\n",
    "- pbmo y número de vuelos origen de tipo String y requerimos convertirlas a entero\n",
    "\n",
    "VUELOS\n",
    "\n",
    "Las siguientes variables de tipo string se requieren converitr a tipo integer:\n",
    "- vuelos, sillas y pasajeros\n",
    "\n",
    "Y las siguientes a tipo decimal:\n",
    "\n",
    "- carga_ofrecida y carga_bordo"
   ]
  },
  {
   "cell_type": "code",
   "execution_count": 11,
   "metadata": {},
   "outputs": [],
   "source": [
    "from pyspark.sql.types import IntegerType\n",
    "aerop = aerop.withColumn(\"latitud\",aerop[\"latitud\"].cast(FloatType()))\n",
    "aerop = aerop.withColumn(\"longitud\",aerop[\"longitud\"].cast(FloatType()))\n",
    "aerop = aerop.withColumn(\"longitud_pista\",aerop[\"longitud_pista\"].cast(IntegerType()))\n",
    "aerop = aerop.withColumn(\"ancho_pista\",aerop[\"ancho_pista\"].cast(IntegerType()))\n",
    "aerop = aerop.withColumn(\"elevacion\",aerop[\"elevacion\"].cast(IntegerType()))\n",
    "aerop = aerop.withColumn(\"pbmo\",aerop[\"pbmo\"].cast(IntegerType()))\n",
    "aerop = aerop.withColumn(\"numero_vuelos_origen\",aerop[\"numero_vuelos_origen\"].cast(IntegerType()))\n",
    "\n",
    "\n",
    "vuelos = vuelos.withColumn(\"vuelos\",vuelos[\"vuelos\"].cast(IntegerType()))\n",
    "vuelos = vuelos.withColumn(\"sillas\",vuelos[\"sillas\"].cast(IntegerType()))\n",
    "vuelos = vuelos.withColumn(\"pasajeros\",vuelos[\"pasajeros\"].cast(IntegerType()))\n",
    "vuelos = vuelos.withColumn(\"carga_ofrecida\",vuelos[\"carga_ofrecida\"].cast(IntegerType()))\n",
    "vuelos = vuelos.withColumn(\"carga_bordo\",vuelos[\"carga_bordo\"].cast(IntegerType()))"
   ]
  },
  {
   "cell_type": "markdown",
   "metadata": {},
   "source": [
    "Empleamos el método <i>summary</i> para hacer un resumen del DataFrame, mostrando información como el número de valores, el promedio y la desviación estándar. "
   ]
  },
  {
   "cell_type": "code",
   "execution_count": 12,
   "metadata": {},
   "outputs": [
    {
     "name": "stdout",
     "output_type": "stream",
     "text": [
      "+-------+------------------+------------------+-----------------+------------------+-----------------+------------------+--------------------+-----------------+------------------+\n",
      "|summary|           latitud|          longitud|   longitud_pista|       ancho_pista|             pbmo|         elevacion|numero_vuelos_origen| gcd_departamento|     gcd_municipio|\n",
      "+-------+------------------+------------------+-----------------+------------------+-----------------+------------------+--------------------+-----------------+------------------+\n",
      "|  count|               292|               292|              292|               292|              237|               292|                 221|              292|               292|\n",
      "|   mean| 5.543335635572264|-73.24611384248081| 962.445205479452|17.633561643835616|5683.341772151899|1073.3082191780823|  185576.36199095022|63.03767123287671| 63341.63698630137|\n",
      "| stddev|2.3826685530856735| 2.296073972909863|540.0191104015921|10.356164406912008|9669.194411809849|1580.8586233906904|   312190.2079185864|27.46134963485643|27463.258042601276|\n",
      "|    min|           -0.7831|          -81.7113|              200|                10|              400|                 0|                   1|                5|              5031|\n",
      "|    25%|            4.2171|          -74.9224|              700|                10|             2000|               357|                  51|               50|             50001|\n",
      "|    50%|            5.2993|          -73.0583|              800|                15|             2000|               594|                5850|               73|             73275|\n",
      "|    75%|             6.798|          -71.6123|             1200|                20|             4500|               870|              240331|               85|             85250|\n",
      "|    max|           13.3572|          -67.0776|             3800|                75|            63196|              9740|             1804153|               99|             99773|\n",
      "+-------+------------------+------------------+-----------------+------------------+-----------------+------------------+--------------------+-----------------+------------------+\n",
      "\n"
     ]
    }
   ],
   "source": [
    "aerop.select('latitud','longitud', 'longitud_pista','ancho_pista','pbmo','elevacion','numero_vuelos_origen','gcd_departamento','gcd_municipio').summary().show()"
   ]
  },
  {
   "cell_type": "code",
   "execution_count": 13,
   "metadata": {},
   "outputs": [
    {
     "name": "stdout",
     "output_type": "stream",
     "text": [
      "+-------+------------------+------------------+-----------------+------------------+------------------+\n",
      "|summary|            vuelos|            sillas|        pasajeros|    carga_ofrecida|       carga_bordo|\n",
      "+-------+------------------+------------------+-----------------+------------------+------------------+\n",
      "|  count|             66017|             63582|            64116|             67599|             67599|\n",
      "|   mean|14.263735098535225|1133.1225346796264|911.7284297211304|46758.481959792305| 5325.660897350553|\n",
      "| stddev| 40.19851542146546| 4468.301901592545| 3613.76621059051|230667.33259801066|23415.893534730683|\n",
      "|    min|                 1|                 0|                0|                 0|                 0|\n",
      "|    25%|                 1|                 0|                2|                 0|                 0|\n",
      "|    50%|                 2|                 0|                8|                 0|               110|\n",
      "|    75%|                 9|               240|              184|              9000|              1335|\n",
      "|    max|              2004|             79925|            65195|           7361385|           1062015|\n",
      "+-------+------------------+------------------+-----------------+------------------+------------------+\n",
      "\n"
     ]
    }
   ],
   "source": [
    "vuelos.select('vuelos', 'sillas', 'pasajeros','carga_ofrecida','carga_bordo').summary().show()"
   ]
  },
  {
   "cell_type": "markdown",
   "metadata": {},
   "source": [
    "### 2.3. Otras opciones de exploración\n",
    "\n",
    "Ahora exploraremos los archivos con agregaciones y tablas de pivotes.\n",
    "\n",
    "Para poder Visualizar el número de pasajeros transportados en un rango de fechas de aeropuertos Nacionales de Colombia"
   ]
  },
  {
   "cell_type": "code",
   "execution_count": 13,
   "metadata": {},
   "outputs": [
    {
     "name": "stdout",
     "output_type": "stream",
     "text": [
      "+------+--------------+----------------+\n",
      "|origen|sum(pasajeros)|sum(carga_bordo)|\n",
      "+------+--------------+----------------+\n",
      "|   9CL|             1|             100|\n",
      "|   9AB|           461|            8554|\n",
      "|   9CG|           350|            4785|\n",
      "|   OTU|           112|           12655|\n",
      "|   NVA|        994296|         1905660|\n",
      "|   RVE|         17449|          415172|\n",
      "|   9BB|           272|            3527|\n",
      "|   9BI|             8|             100|\n",
      "|   ACD|           463|           28306|\n",
      "|   YPP|             1|               1|\n",
      "|   PUU|        160717|          652179|\n",
      "|   URR|            18|               0|\n",
      "|   A01|            14|            1822|\n",
      "|   VGP|         60470|          338218|\n",
      "|   ARQ|             9|             310|\n",
      "|   AFI|            26|             218|\n",
      "|   7HB|           193|            1611|\n",
      "|   9CZ|             1|               0|\n",
      "|   PVA|        179305|         1819611|\n",
      "|   IGO|            18|             585|\n",
      "+------+--------------+----------------+\n",
      "only showing top 20 rows\n",
      "\n"
     ]
    }
   ],
   "source": [
    "datos_nacionales = vuelos.groupBy('origen').agg({'pasajeros': 'sum','carga_bordo':'sum'})\n",
    "datos_nacionales.show()"
   ]
  },
  {
   "cell_type": "markdown",
   "metadata": {},
   "source": [
    "Exploremos ahora \n",
    "- 1. La cantidad total de vuelos por mes y año\n",
    "- 2. La cantidad total de vuelos anuales que salieron desde cada aeropuerto de origen"
   ]
  },
  {
   "cell_type": "code",
   "execution_count": 14,
   "metadata": {},
   "outputs": [
    {
     "name": "stdout",
     "output_type": "stream",
     "text": [
      "+---+----+----+----+----+\n",
      "|mes|2010|2011|2012|2013|\n",
      "+---+----+----+----+----+\n",
      "| 12|1521|1433|1618|1848|\n",
      "|  1| 929|1331|1253|1489|\n",
      "|  6|1373|1547|1572|1427|\n",
      "|  3|1182|1313|1423|1628|\n",
      "|  5|1297|1270|1517|1482|\n",
      "|  9|1265|1305|1355|1623|\n",
      "|  4|1264|1355|1265|1414|\n",
      "|  8|1224|1462|1459|1642|\n",
      "|  7|1299|1319|1440|1551|\n",
      "| 10|1347|1497|1570|1663|\n",
      "| 11|1229|1293|1395|1644|\n",
      "|  2|1090|1290|1364|1522|\n",
      "+---+----+----+----+----+\n",
      "\n",
      "+------+----+----+----+----+\n",
      "|origen|2010|2011|2012|2013|\n",
      "+------+----+----+----+----+\n",
      "|   9CL|null|   1|null|null|\n",
      "|   9AB|  11|  10|null|   1|\n",
      "|   9CG|   2|  23|  32|  18|\n",
      "|   OTU|   2|   7|  19|  14|\n",
      "|   NVA| 645| 626| 635| 735|\n",
      "|   RVE|  59| 104| 103| 158|\n",
      "|   9BB|null|   1|  36|  37|\n",
      "|   9BI|null|   3|   2|null|\n",
      "|   ACD|  21|  19|  19|  17|\n",
      "|   YPP|null|null|   1|null|\n",
      "|   PUU| 265| 279| 235| 309|\n",
      "|   URR|null|null|null|   2|\n",
      "|   A01|null|null|null|  13|\n",
      "|   VGP| 162| 219| 223| 236|\n",
      "|   ARQ|null|null|null|   5|\n",
      "|   AFI|null|null|   2|null|\n",
      "|   7HB|null|null|  12|  45|\n",
      "|   9CZ|null|null|null|   1|\n",
      "|   PVA|  38|  44|  44|  54|\n",
      "|   IGO|null|   1|   7|null|\n",
      "+------+----+----+----+----+\n",
      "only showing top 20 rows\n",
      "\n"
     ]
    }
   ],
   "source": [
    "vuelos.groupBy('mes').pivot('ano').count().show()\n",
    "vuelos.groupBy('origen').pivot('ano').count().show()"
   ]
  },
  {
   "cell_type": "markdown",
   "metadata": {},
   "source": [
    "## 3. Preprocesamiento"
   ]
  },
  {
   "cell_type": "markdown",
   "metadata": {},
   "source": [
    "### 3.0 Eliminar Registros Duplicados"
   ]
  },
  {
   "cell_type": "markdown",
   "metadata": {},
   "source": [
    "En la fuente aeropuertos observamos que contamos con algunos registros duplicados. Razón por la cual se requiere depurar estos registros de manera que tengamos una única información para cada aeropuerto"
   ]
  },
  {
   "cell_type": "code",
   "execution_count": 21,
   "metadata": {},
   "outputs": [
    {
     "name": "stdout",
     "output_type": "stream",
     "text": [
      "variable _c0,count 213, cantidad 213\n",
      "variable sigla,count 212, cantidad 213\n",
      "variable iata,count 62, cantidad 213\n",
      "variable nombre,count 206, cantidad 213\n",
      "variable municipio,count 122, cantidad 213\n",
      "variable departamento,count 30, cantidad 213\n",
      "variable categoria,count 4, cantidad 213\n",
      "variable latitud,count 212, cantidad 213\n",
      "variable longitud,count 212, cantidad 213\n",
      "variable propietario,count 121, cantidad 213\n",
      "variable explotador,count 103, cantidad 213\n",
      "variable longitud_pista,count 98, cantidad 213\n",
      "variable ancho_pista,count 22, cantidad 213\n",
      "variable pbmo,count 37, cantidad 213\n",
      "variable elevacion,count 183, cantidad 213\n",
      "variable resolucion,count 166, cantidad 213\n",
      "variable fecha_construccion,count 147, cantidad 213\n",
      "variable fecha_vigencia,count 40, cantidad 213\n",
      "variable clase,count 15, cantidad 213\n",
      "variable tipo,count 4, cantidad 213\n",
      "variable numero_vuelos_origen,count 130, cantidad 213\n",
      "variable gcd_departamento,count 30, cantidad 213\n",
      "variable gcd_municipio,count 122, cantidad 213\n"
     ]
    }
   ],
   "source": [
    "aerop = aerop.dropDuplicates(subset=['_c0'])\n",
    "for col in aerop_colnames:\n",
    "    col_count = aerop.select(col).distinct().count()\n",
    "    col_total = aerop.select(col).count()\n",
    "    print('variable {0},count {1}, cantidad {2}'.format(col, col_count, col_total))"
   ]
  },
  {
   "cell_type": "markdown",
   "metadata": {},
   "source": [
    "### 3.1. Reemplazar valores nulos\n",
    "\n",
    "Identifiquemos la cantidad de valores nulos que tenemos en cada fuente: "
   ]
  },
  {
   "cell_type": "code",
   "execution_count": 22,
   "metadata": {},
   "outputs": [
    {
     "name": "stdout",
     "output_type": "stream",
     "text": [
      "+---+-----+----+------+---------+------------+---------+-------+--------+-----------+----------+--------------+-----------+----+---------+----------+------------------+--------------+-----+----+--------------------+----------------+-------------+\n",
      "|_c0|sigla|iata|nombre|municipio|departamento|categoria|latitud|longitud|propietario|explotador|longitud_pista|ancho_pista|pbmo|elevacion|resolucion|fecha_construccion|fecha_vigencia|clase|tipo|numero_vuelos_origen|gcd_departamento|gcd_municipio|\n",
      "+---+-----+----+------+---------+------------+---------+-------+--------+-----------+----------+--------------+-----------+----+---------+----------+------------------+--------------+-----+----+--------------------+----------------+-------------+\n",
      "|  0|    0| 150|     0|        0|           0|        0|      0|       0|          2|         0|             0|          0|   0|        0|         3|                 0|           164|    0|   0|                   0|               0|            0|\n",
      "+---+-----+----+------+---------+------------+---------+-------+--------+-----------+----------+--------------+-----------+----+---------+----------+------------------+--------------+-----+----+--------------------+----------------+-------------+\n",
      "\n"
     ]
    }
   ],
   "source": [
    "aerop.select([count(when(isnan(c), c)).alias(c) for c in aerop.columns]).show()"
   ]
  },
  {
   "cell_type": "markdown",
   "metadata": {},
   "source": [
    "Para la variable iata que representa el código del aeropuerto completar los datos a través de categorízaciones no es una solución óptima, se solicita al cliente revisar la posibilidad de completar la información. En caso de no ser viable, se propone eliminar estos registros. \n",
    "\n",
    "Para las variables numéricas, se procederá a completar la información con promedios para cada columna"
   ]
  },
  {
   "cell_type": "code",
   "execution_count": 23,
   "metadata": {},
   "outputs": [
    {
     "name": "stdout",
     "output_type": "stream",
     "text": [
      "+---+---+------+-------+-----------+----------+-------+-------+------+------+--------------+---------+-----------+\n",
      "|ano|mes|origen|destino|tipo_equipo|tipo_vuelo|trafico|empresa|vuelos|sillas|carga_ofrecida|pasajeros|carga_bordo|\n",
      "+---+---+------+-------+-----------+----------+-------+-------+------+------+--------------+---------+-----------+\n",
      "|  0|  0|     0|      0|          0|         0|    894|      0|     0|     0|             0|        0|          0|\n",
      "+---+---+------+-------+-----------+----------+-------+-------+------+------+--------------+---------+-----------+\n",
      "\n"
     ]
    }
   ],
   "source": [
    "vuelos.select([count(when(isnan(c), c)).alias(c) for c in vuelos.columns]).show()"
   ]
  },
  {
   "cell_type": "markdown",
   "metadata": {},
   "source": [
    "Se observa que contamos con 894 registros nulos en la columna tráfico, información clave en el análisis dado que nos indica si el vuelo es nacional o internacional. Por lo cual se procederá a solicitar esta información al cliente.\n",
    "\n",
    "En relación a la columna pasajeros, se usará el criterio de promedio para completar los faltantes.\n",
    "\n",
    "A continuación, se reemplazarán los valores nulos de la columna por el valor de su media para las variables numéricas."
   ]
  },
  {
   "cell_type": "code",
   "execution_count": 24,
   "metadata": {},
   "outputs": [],
   "source": [
    "media_pbmo = aerop.agg({'pbmo': 'mean'}).collect()[0][0]\n",
    "media_n_v_origen = aerop.agg({'numero_vuelos_origen': 'mean'}).collect()[0][0]\n",
    "aerop =  aerop.fillna({'pbmo': media_pbmo})\n",
    "aerop =  aerop.fillna({'numero_vuelos_origen': media_n_v_origen})"
   ]
  },
  {
   "cell_type": "code",
   "execution_count": 25,
   "metadata": {},
   "outputs": [],
   "source": [
    "media_vuelos = vuelos.agg({'vuelos': 'mean'}).collect()[0][0]\n",
    "media_sillas = vuelos.agg({'sillas': 'mean'}).collect()[0][0]\n",
    "media_pasajeros = vuelos.agg({'pasajeros': 'mean'}).collect()[0][0]\n",
    "media_carga_ofrecida = vuelos.agg({'carga_ofrecida': 'mean'}).collect()[0][0]\n",
    "media_carga_bordo = vuelos.agg({'carga_bordo': 'mean'}).collect()[0][0]\n",
    "vuelos =  vuelos.fillna({'vuelos': media_vuelos})\n",
    "vuelos =  vuelos.fillna({'sillas': media_sillas})\n",
    "vuelos =  vuelos.fillna({'pasajeros': media_pasajeros})\n",
    "vuelos =  vuelos.fillna({'carga_ofrecida': media_carga_ofrecida})\n",
    "vuelos =  vuelos.fillna({'carga_bordo': media_carga_bordo})"
   ]
  },
  {
   "cell_type": "markdown",
   "metadata": {},
   "source": [
    "### 3.2. Aplicación de filtros"
   ]
  },
  {
   "cell_type": "markdown",
   "metadata": {},
   "source": [
    "En primera instancia, exploremos la información de vuelos nacionales e internacionales con la cual contamos en los archivos."
   ]
  },
  {
   "cell_type": "code",
   "execution_count": 26,
   "metadata": {},
   "outputs": [
    {
     "name": "stdout",
     "output_type": "stream",
     "text": [
      "+----+-------------+--------------------+\n",
      "|iata|    categoria|numero_vuelos_origen|\n",
      "+----+-------------+--------------------+\n",
      "| ADZ|Internacional|               76692|\n",
      "| BOG|Internacional|             1028334|\n",
      "| CTG|Internacional|              131998|\n",
      "| NVA|Internacional|               65289|\n",
      "| SMR|Internacional|               45781|\n",
      "| IPI|Internacional|                4193|\n",
      "| RCH|Internacional|                6241|\n",
      "| CUC|Internacional|              101435|\n",
      "| CLO|Internacional|              207439|\n",
      "| CUC|Internacional|               72216|\n",
      "+----+-------------+--------------------+\n",
      "\n",
      "+----+---------+--------------------+\n",
      "|iata|categoria|numero_vuelos_origen|\n",
      "+----+---------+--------------------+\n",
      "| UIB| Nacional|              141894|\n",
      "| IBE| Nacional|               36819|\n",
      "| PVA| Nacional|               23333|\n",
      "| nan| Nacional|               12101|\n",
      "| PSO| Nacional|               23045|\n",
      "| EYP| Nacional|               92726|\n",
      "| VVC| Nacional|              117754|\n",
      "| BUN| Nacional|                4776|\n",
      "| AUC| Nacional|               25923|\n",
      "| APO| Nacional|               40556|\n",
      "| VUP| Nacional|              963136|\n",
      "| PUU| Nacional|               18730|\n",
      "| PPN| Nacional|               17602|\n",
      "| EJA| Nacional|             1033304|\n",
      "| MTR| Nacional|               70624|\n",
      "| FLA| Nacional|               16997|\n",
      "+----+---------+--------------------+\n",
      "\n"
     ]
    }
   ],
   "source": [
    "aerop_inter = aerop.select('iata','categoria', 'numero_vuelos_origen').where((aerop['iata'].isNotNull()) & (aerop['categoria'] == \"Internacional\"))\n",
    "aerop_nal = aerop.select('iata','categoria', 'numero_vuelos_origen').where((aerop['iata'].isNotNull()) & (aerop['categoria'] == \"Nacional\"))\n",
    "\n",
    "aerop_inter.show()\n",
    "aerop_nal.show()"
   ]
  },
  {
   "cell_type": "markdown",
   "metadata": {},
   "source": [
    "Observamos que contamos con la información de aeropuertos de origen que tienen vuelos con destinos Internacionales y con destinos Nacionales"
   ]
  },
  {
   "cell_type": "code",
   "execution_count": 27,
   "metadata": {},
   "outputs": [
    {
     "name": "stdout",
     "output_type": "stream",
     "text": [
      "+------+-------+---------+\n",
      "|origen|trafico|pasajeros|\n",
      "+------+-------+---------+\n",
      "+------+-------+---------+\n",
      "\n",
      "+------+-------+---------+\n",
      "|origen|trafico|pasajeros|\n",
      "+------+-------+---------+\n",
      "|   BOG|      N|        4|\n",
      "|   UIB|      N|      873|\n",
      "|   IBE|      N|     2866|\n",
      "|   FLA|      N|        4|\n",
      "|   CUC|      N|      911|\n",
      "|   CUC|      N|        6|\n",
      "|   7NS|      N|      149|\n",
      "|   AUC|      N|        2|\n",
      "|   CLO|      N|        2|\n",
      "|   BOG|      N|       10|\n",
      "|   MVP|      N|      569|\n",
      "|   BOG|      N|      911|\n",
      "|   BOG|      N|       11|\n",
      "|   NVA|      N|       11|\n",
      "|   BOG|      N|      107|\n",
      "|   BOG|      N|        0|\n",
      "|   PUU|      N|       29|\n",
      "|   BOG|      N|        8|\n",
      "|   BOG|      N|        2|\n",
      "|   GYM|      N|        2|\n",
      "+------+-------+---------+\n",
      "only showing top 20 rows\n",
      "\n"
     ]
    }
   ],
   "source": [
    "vuelos_inter = vuelos.select('origen','trafico', 'pasajeros').where((vuelos['origen'].isNotNull()) & (vuelos['trafico'] == \"I\"))\n",
    "vuelos_nal = vuelos.select('origen','trafico', 'pasajeros').where((vuelos['origen'].isNotNull()) & (vuelos['trafico'] == \"N\"))\n",
    "\n",
    "vuelos_inter.show()\n",
    "vuelos_nal.show()"
   ]
  },
  {
   "cell_type": "markdown",
   "metadata": {},
   "source": [
    "Observamos que en el caso de los vuelos, contamos con información únicamente para vuelos nacionales. Esto debe informarse al cliente para que se tomen decisiones en relación bien sea al suministro de información adicional o a los análisis a realizar."
   ]
  },
  {
   "cell_type": "markdown",
   "metadata": {},
   "source": [
    "### 3.3. Histogramas para entender las distribuciones de las variables"
   ]
  },
  {
   "cell_type": "code",
   "execution_count": 28,
   "metadata": {
    "scrolled": true
   },
   "outputs": [],
   "source": [
    "carga_bordo_hists = vuelos.select('carga_bordo').rdd.flatMap(lambda x: x).histogram(5)\n",
    "carga_ofrecida_hists = vuelos.select('carga_ofrecida').rdd.flatMap(lambda x: x).histogram(5)\n",
    "pasajeros_hists = vuelos.select('pasajeros').rdd.flatMap(lambda x: x).histogram(5)\n",
    "vuelos_hists = vuelos.select('vuelos').rdd.flatMap(lambda x: x).histogram(5)\n",
    "numero_vuelos_origen_hists = aerop.select('numero_vuelos_origen').rdd.flatMap(lambda x: x).histogram(5)"
   ]
  },
  {
   "cell_type": "code",
   "execution_count": 29,
   "metadata": {},
   "outputs": [
    {
     "data": {
      "image/png": "[encoded data removed]",
      "text/plain": [
       "<Figure size 468x576 with 1 Axes>"
      ]
     },
     "metadata": {
      "needs_background": "light"
     },
     "output_type": "display_data"
    },
    {
     "data": {
      "image/png": "[encoded data removed]",
      "text/plain": [
       "<Figure size 468x576 with 1 Axes>"
      ]
     },
     "metadata": {
      "needs_background": "light"
     },
     "output_type": "display_data"
    },
    {
     "data": {
      "image/png": "[encoded data removed]",
      "text/plain": [
       "<Figure size 468x576 with 1 Axes>"
      ]
     },
     "metadata": {
      "needs_background": "light"
     },
     "output_type": "display_data"
    },
    {
     "data": {
      "image/png": "[encoded data removed]",
      "text/plain": [
       "<Figure size 468x576 with 1 Axes>"
      ]
     },
     "metadata": {
      "needs_background": "light"
     },
     "output_type": "display_data"
    },
    {
     "data": {
      "image/png": "[encoded data removed]",
      "text/plain": [
       "<Figure size 468x576 with 1 Axes>"
      ]
     },
     "metadata": {
      "needs_background": "light"
     },
     "output_type": "display_data"
    }
   ],
   "source": [
    "import numpy as np\n",
    "import matplotlib.pyplot as mplt\n",
    "import matplotlib.ticker as mtick\n",
    "\n",
    "def plotHistogramData(data):\n",
    "    binSides, binCounts = data\n",
    "    binSides = [round(i, 2) for i in binSides]\n",
    "    N = len(binCounts)\n",
    "    ind = np.arange(N)\n",
    "    width = 1\n",
    "\n",
    "    fig, ax = mplt.subplots()\n",
    "    rects1 = ax.bar(ind+0.5, binCounts, width, color='b')\n",
    "    \n",
    "    fig.set_size_inches(1.3*N, 8)\n",
    "\n",
    "    ax.set_ylabel('Frecuencia')\n",
    "    ax.set_xlabel('Rango')\n",
    "    ax.set_title('Histograma')\n",
    "    ax.set_xticks(np.arange(N+1))\n",
    "    ax.set_xticklabels(binSides)\n",
    "\n",
    "    mplt.show()\n",
    "\n",
    "        \n",
    "plotHistogramData(carga_bordo_hists)\n",
    "plotHistogramData(carga_ofrecida_hists)\n",
    "plotHistogramData(pasajeros_hists)\n",
    "plotHistogramData(vuelos_hists)\n",
    "plotHistogramData(numero_vuelos_origen_hists)"
   ]
  },
  {
   "cell_type": "markdown",
   "metadata": {},
   "source": [
    "En relación a las variables analizadas, observamos que no contamos con distribuciones normales para ninguna de las variables"
   ]
  },
  {
   "cell_type": "markdown",
   "metadata": {},
   "source": [
    "### 3.4 Conclusiones sobre la completitud de la información"
   ]
  },
  {
   "cell_type": "markdown",
   "metadata": {},
   "source": [
    "En relación con la completitud encontramos que dentro de la información actualmente:\n",
    "\n",
    "    Existe pero no se conoce o no existe.\n",
    "    - Información de cógidos IATA para registros faltantes en la fuente aeropuertos\n",
    "    \n",
    "    No se sabe si el dato existe.\n",
    "    - Datos faltantes mencionados en el análisis de este documento"
   ]
  },
  {
   "cell_type": "markdown",
   "metadata": {},
   "source": [
    "### 4. Viabilidad de realizar los análisis solicitados por el cliente"
   ]
  },
  {
   "cell_type": "markdown",
   "metadata": {},
   "source": [
    "\n",
    "Dentro del archivo fuente vuelos se identifica que solo se encuentra información de vuelos nacionales. Sin embargo, dada la cantidad de valores nulos identificados es necesario revisar si dentro de estos valores nulos se encuentra la información de vuelos internacionales. Por lo anterior, el análisis de todas las solicitudes del cliente relacionadas con información de vuelos internacionales, por ahora no es posible realizarlo. \n",
    "\n",
    "- El número de pasajeros transportados en un rango de fechas de aeropuertos Internacionales a Colombia.\n",
    "- La carga transportada en un rango de fechas de aeropuertos Internacionales a Colombia.\n",
    "- La carga desaprovechada en un rango de fechas de aeropuertos Internacionales a Colombia.\n",
    "- El número de puestos desaprovechados en un rango de fechas de aeropuertos Internacionales a Colombia.\n",
    "- El porcentaje de cobertura Internacional, por rango de fechas, nacional o regional por departamentos de Colombia.\n",
    "\n",
    "Los siguientes análisis es posible realizarlos con la información suministrada:\n",
    "- El número de pasajeros transportados en un rango de fechas de aeropuertos Nacionales de Colombia. \n",
    "- La carga transportada en un rango de fechas de aeropuertos Nacionales de Colombia.\n",
    "- La cantidad de pasajeros salientes y entrantes a través del tiempo por departamentos de Colombia.\n",
    "- La cantidad de carga aérea saliente y entrante a través del tiempo por departamentos de Colombia."
   ]
  },
  {
   "cell_type": "code",
   "execution_count": 33,
   "metadata": {},
   "outputs": [],
   "source": [
    "vuelos.toPandas().to_csv(\"vuelos2.csv\")"
   ]
  },
  {
   "cell_type": "code",
   "execution_count": 30,
   "metadata": {},
   "outputs": [],
   "source": [
    "vuelos.toPandas().to_csv(\"aeropuertos2.csv\")"
   ]
  },
  {
   "cell_type": "code",
   "execution_count": null,
   "metadata": {},
   "outputs": [],
   "source": []
  }
 ],
 "metadata": {
  "kernelspec": {
   "display_name": "Python 3",
   "language": "python",
   "name": "python3"
  },
  "language_info": {
   "codemirror_mode": {
    "name": "ipython",
    "version": 3
   },
   "file_extension": ".py",
   "mimetype": "text/x-python",
   "name": "python",
   "nbconvert_exporter": "python",
   "pygments_lexer": "ipython3",
   "version": "3.9.4"
  }
 },
 "nbformat": 4,
 "nbformat_minor": 2
}
